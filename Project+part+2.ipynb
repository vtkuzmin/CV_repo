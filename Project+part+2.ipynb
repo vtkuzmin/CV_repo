{
 "cells": [
  {
   "cell_type": "code",
   "execution_count": 363,
   "metadata": {
    "collapsed": true
   },
   "outputs": [],
   "source": [
    "%matplotlib inline\n",
    "import matplotlib.pyplot as plt\n",
    "import numpy as np\n",
    "import pandas as pd\n",
    "\n",
    "import warnings \n",
    "warnings.filterwarnings('ignore')"
   ]
  },
  {
   "cell_type": "markdown",
   "metadata": {},
   "source": [
    "Загрузите датасет, с которым работали в первой части. Если не помните, используйте функцию ниже."
   ]
  },
  {
   "cell_type": "code",
   "execution_count": 364,
   "metadata": {
    "collapsed": false
   },
   "outputs": [
    {
     "data": {
      "text/html": [
       "<div>\n",
       "<table border=\"1\" class=\"dataframe\">\n",
       "  <thead>\n",
       "    <tr style=\"text-align: right;\">\n",
       "      <th></th>\n",
       "      <th>school</th>\n",
       "      <th>sex</th>\n",
       "      <th>age</th>\n",
       "      <th>address</th>\n",
       "      <th>famsize</th>\n",
       "      <th>Pstatus</th>\n",
       "      <th>Medu</th>\n",
       "      <th>Fedu</th>\n",
       "      <th>Mjob</th>\n",
       "      <th>Fjob</th>\n",
       "      <th>...</th>\n",
       "      <th>famrel</th>\n",
       "      <th>freetime</th>\n",
       "      <th>goout</th>\n",
       "      <th>Dalc</th>\n",
       "      <th>Walc</th>\n",
       "      <th>health</th>\n",
       "      <th>absences</th>\n",
       "      <th>G1</th>\n",
       "      <th>G2</th>\n",
       "      <th>G3</th>\n",
       "    </tr>\n",
       "  </thead>\n",
       "  <tbody>\n",
       "    <tr>\n",
       "      <th>0</th>\n",
       "      <td>GP</td>\n",
       "      <td>F</td>\n",
       "      <td>18</td>\n",
       "      <td>U</td>\n",
       "      <td>GT3</td>\n",
       "      <td>A</td>\n",
       "      <td>4</td>\n",
       "      <td>4</td>\n",
       "      <td>at_home</td>\n",
       "      <td>teacher</td>\n",
       "      <td>...</td>\n",
       "      <td>4</td>\n",
       "      <td>3</td>\n",
       "      <td>4</td>\n",
       "      <td>1</td>\n",
       "      <td>1</td>\n",
       "      <td>3</td>\n",
       "      <td>4</td>\n",
       "      <td>0</td>\n",
       "      <td>11</td>\n",
       "      <td>11</td>\n",
       "    </tr>\n",
       "    <tr>\n",
       "      <th>1</th>\n",
       "      <td>GP</td>\n",
       "      <td>F</td>\n",
       "      <td>17</td>\n",
       "      <td>U</td>\n",
       "      <td>GT3</td>\n",
       "      <td>T</td>\n",
       "      <td>1</td>\n",
       "      <td>1</td>\n",
       "      <td>at_home</td>\n",
       "      <td>other</td>\n",
       "      <td>...</td>\n",
       "      <td>5</td>\n",
       "      <td>3</td>\n",
       "      <td>3</td>\n",
       "      <td>1</td>\n",
       "      <td>1</td>\n",
       "      <td>3</td>\n",
       "      <td>2</td>\n",
       "      <td>9</td>\n",
       "      <td>11</td>\n",
       "      <td>11</td>\n",
       "    </tr>\n",
       "    <tr>\n",
       "      <th>2</th>\n",
       "      <td>GP</td>\n",
       "      <td>F</td>\n",
       "      <td>15</td>\n",
       "      <td>U</td>\n",
       "      <td>LE3</td>\n",
       "      <td>T</td>\n",
       "      <td>1</td>\n",
       "      <td>1</td>\n",
       "      <td>at_home</td>\n",
       "      <td>other</td>\n",
       "      <td>...</td>\n",
       "      <td>4</td>\n",
       "      <td>3</td>\n",
       "      <td>2</td>\n",
       "      <td>2</td>\n",
       "      <td>3</td>\n",
       "      <td>3</td>\n",
       "      <td>6</td>\n",
       "      <td>12</td>\n",
       "      <td>13</td>\n",
       "      <td>12</td>\n",
       "    </tr>\n",
       "    <tr>\n",
       "      <th>3</th>\n",
       "      <td>GP</td>\n",
       "      <td>F</td>\n",
       "      <td>15</td>\n",
       "      <td>U</td>\n",
       "      <td>GT3</td>\n",
       "      <td>T</td>\n",
       "      <td>4</td>\n",
       "      <td>2</td>\n",
       "      <td>health</td>\n",
       "      <td>services</td>\n",
       "      <td>...</td>\n",
       "      <td>3</td>\n",
       "      <td>2</td>\n",
       "      <td>2</td>\n",
       "      <td>1</td>\n",
       "      <td>1</td>\n",
       "      <td>5</td>\n",
       "      <td>0</td>\n",
       "      <td>14</td>\n",
       "      <td>14</td>\n",
       "      <td>14</td>\n",
       "    </tr>\n",
       "    <tr>\n",
       "      <th>4</th>\n",
       "      <td>GP</td>\n",
       "      <td>F</td>\n",
       "      <td>16</td>\n",
       "      <td>U</td>\n",
       "      <td>GT3</td>\n",
       "      <td>T</td>\n",
       "      <td>3</td>\n",
       "      <td>3</td>\n",
       "      <td>other</td>\n",
       "      <td>other</td>\n",
       "      <td>...</td>\n",
       "      <td>4</td>\n",
       "      <td>3</td>\n",
       "      <td>2</td>\n",
       "      <td>1</td>\n",
       "      <td>2</td>\n",
       "      <td>5</td>\n",
       "      <td>0</td>\n",
       "      <td>11</td>\n",
       "      <td>13</td>\n",
       "      <td>13</td>\n",
       "    </tr>\n",
       "  </tbody>\n",
       "</table>\n",
       "<p>5 rows × 33 columns</p>\n",
       "</div>"
      ],
      "text/plain": [
       "  school sex  age address famsize Pstatus  Medu  Fedu     Mjob      Fjob ...  \\\n",
       "0     GP   F   18       U     GT3       A     4     4  at_home   teacher ...   \n",
       "1     GP   F   17       U     GT3       T     1     1  at_home     other ...   \n",
       "2     GP   F   15       U     LE3       T     1     1  at_home     other ...   \n",
       "3     GP   F   15       U     GT3       T     4     2   health  services ...   \n",
       "4     GP   F   16       U     GT3       T     3     3    other     other ...   \n",
       "\n",
       "  famrel freetime  goout  Dalc  Walc health absences  G1  G2  G3  \n",
       "0      4        3      4     1     1      3        4   0  11  11  \n",
       "1      5        3      3     1     1      3        2   9  11  11  \n",
       "2      4        3      2     2     3      3        6  12  13  12  \n",
       "3      3        2      2     1     1      5        0  14  14  14  \n",
       "4      4        3      2     1     2      5        0  11  13  13  \n",
       "\n",
       "[5 rows x 33 columns]"
      ]
     },
     "execution_count": 364,
     "metadata": {},
     "output_type": "execute_result"
    }
   ],
   "source": [
    "df = pd.read_csv('D://Проект майнор/student-por.csv', sep = ';')\n",
    "df.head()"
   ]
  },
  {
   "cell_type": "markdown",
   "metadata": {},
   "source": [
    "В качестве целевого признака мы будем использовать финальную оценку G3. Оценки G1 и G2 мы не будем использовать в\n",
    "качестве признаков - они слишком сильно коррелируют с ответом.\n",
    "Извлеките из остальных данных признаки:\n",
    "* **(1 балл)(!)** Извлеките только числовые признаки\n",
    "* **(1 балл)** Извлеките также бинарные и категориальные признаки\n",
    "\n",
    "Ниже указано несколько инструментов, которые могут быть полезны (изучите самостоятельно):\n",
    "* `pd.get_dummies`\n",
    "* `sklearn.preprocessing.OneHotEncoder`\n",
    "* `pd.concat`\n",
    "* `np.hstack`"
   ]
  },
  {
   "cell_type": "code",
   "execution_count": 365,
   "metadata": {
    "collapsed": true
   },
   "outputs": [],
   "source": [
    "target = df['G3'].values"
   ]
  },
  {
   "cell_type": "code",
   "execution_count": 366,
   "metadata": {
    "collapsed": false
   },
   "outputs": [],
   "source": [
    "#Извлечем только числовые признаки\n",
    "\n",
    "num_features = np.vstack([df['age'].values,\n",
    "                 df['Medu'].values,\n",
    "                 df['Fedu'].values,\n",
    "                 df['traveltime'].values,\n",
    "                 df['studytime'].values,\n",
    "                 df['failures'].values,\n",
    "                 df['famrel'].values,\n",
    "                 df['freetime'].values,\n",
    "                 df['goout'].values,\n",
    "                 df['Dalc'].values,\n",
    "                 df['Walc'].values,\n",
    "                 df['health'].values,\n",
    "                 df['absences'].values]).T"
   ]
  },
  {
   "cell_type": "code",
   "execution_count": 367,
   "metadata": {
    "collapsed": false
   },
   "outputs": [
    {
     "data": {
      "text/plain": [
       "array([[ 1.,  0.,  1., ...,  0.,  1.,  0.],\n",
       "       [ 1.,  0.,  1., ...,  1.,  1.,  0.],\n",
       "       [ 1.,  0.,  1., ...,  1.,  1.,  0.],\n",
       "       ..., \n",
       "       [ 0.,  1.,  1., ...,  0.,  1.,  0.],\n",
       "       [ 0.,  1.,  0., ...,  1.,  1.,  0.],\n",
       "       [ 0.,  1.,  0., ...,  1.,  1.,  0.]])"
      ]
     },
     "execution_count": 367,
     "metadata": {},
     "output_type": "execute_result"
    }
   ],
   "source": [
    "#Извлечем бинарные признаки\n",
    "\n",
    "bin_df = pd.concat([pd.get_dummies(df['school']),\n",
    "                        pd.get_dummies(df['sex']),\n",
    "                        pd.get_dummies(df['address']),\n",
    "                        pd.get_dummies(df['famsize']),\n",
    "                        pd.get_dummies(df['Pstatus']),\n",
    "                         pd.get_dummies(df['schoolsup']),\n",
    "                         pd.get_dummies(df['famsup']),\n",
    "                         pd.get_dummies(df['paid']),\n",
    "                         pd.get_dummies(df['activities']),\n",
    "                         pd.get_dummies(df['nursery']),\n",
    "                         pd.get_dummies(df['higher']),\n",
    "                         pd.get_dummies(df['internet']),\n",
    "                         pd.get_dummies(df['romantic'])], axis = 1)\n",
    "bin_features = bin_df.values\n",
    "bin_features"
   ]
  },
  {
   "cell_type": "code",
   "execution_count": 368,
   "metadata": {
    "collapsed": false
   },
   "outputs": [
    {
     "data": {
      "text/html": [
       "<div>\n",
       "<table border=\"1\" class=\"dataframe\">\n",
       "  <thead>\n",
       "    <tr style=\"text-align: right;\">\n",
       "      <th></th>\n",
       "      <th>at_home</th>\n",
       "      <th>health</th>\n",
       "      <th>other</th>\n",
       "      <th>services</th>\n",
       "      <th>teacher</th>\n",
       "      <th>at_home</th>\n",
       "      <th>health</th>\n",
       "      <th>other</th>\n",
       "      <th>services</th>\n",
       "      <th>teacher</th>\n",
       "      <th>course</th>\n",
       "      <th>home</th>\n",
       "      <th>other</th>\n",
       "      <th>reputation</th>\n",
       "      <th>father</th>\n",
       "      <th>mother</th>\n",
       "      <th>other</th>\n",
       "    </tr>\n",
       "  </thead>\n",
       "  <tbody>\n",
       "    <tr>\n",
       "      <th>0</th>\n",
       "      <td>1</td>\n",
       "      <td>0</td>\n",
       "      <td>0</td>\n",
       "      <td>0</td>\n",
       "      <td>0</td>\n",
       "      <td>0</td>\n",
       "      <td>0</td>\n",
       "      <td>0</td>\n",
       "      <td>0</td>\n",
       "      <td>1</td>\n",
       "      <td>1</td>\n",
       "      <td>0</td>\n",
       "      <td>0</td>\n",
       "      <td>0</td>\n",
       "      <td>0</td>\n",
       "      <td>1</td>\n",
       "      <td>0</td>\n",
       "    </tr>\n",
       "    <tr>\n",
       "      <th>1</th>\n",
       "      <td>1</td>\n",
       "      <td>0</td>\n",
       "      <td>0</td>\n",
       "      <td>0</td>\n",
       "      <td>0</td>\n",
       "      <td>0</td>\n",
       "      <td>0</td>\n",
       "      <td>1</td>\n",
       "      <td>0</td>\n",
       "      <td>0</td>\n",
       "      <td>1</td>\n",
       "      <td>0</td>\n",
       "      <td>0</td>\n",
       "      <td>0</td>\n",
       "      <td>1</td>\n",
       "      <td>0</td>\n",
       "      <td>0</td>\n",
       "    </tr>\n",
       "    <tr>\n",
       "      <th>2</th>\n",
       "      <td>1</td>\n",
       "      <td>0</td>\n",
       "      <td>0</td>\n",
       "      <td>0</td>\n",
       "      <td>0</td>\n",
       "      <td>0</td>\n",
       "      <td>0</td>\n",
       "      <td>1</td>\n",
       "      <td>0</td>\n",
       "      <td>0</td>\n",
       "      <td>0</td>\n",
       "      <td>0</td>\n",
       "      <td>1</td>\n",
       "      <td>0</td>\n",
       "      <td>0</td>\n",
       "      <td>1</td>\n",
       "      <td>0</td>\n",
       "    </tr>\n",
       "    <tr>\n",
       "      <th>3</th>\n",
       "      <td>0</td>\n",
       "      <td>1</td>\n",
       "      <td>0</td>\n",
       "      <td>0</td>\n",
       "      <td>0</td>\n",
       "      <td>0</td>\n",
       "      <td>0</td>\n",
       "      <td>0</td>\n",
       "      <td>1</td>\n",
       "      <td>0</td>\n",
       "      <td>0</td>\n",
       "      <td>1</td>\n",
       "      <td>0</td>\n",
       "      <td>0</td>\n",
       "      <td>0</td>\n",
       "      <td>1</td>\n",
       "      <td>0</td>\n",
       "    </tr>\n",
       "    <tr>\n",
       "      <th>4</th>\n",
       "      <td>0</td>\n",
       "      <td>0</td>\n",
       "      <td>1</td>\n",
       "      <td>0</td>\n",
       "      <td>0</td>\n",
       "      <td>0</td>\n",
       "      <td>0</td>\n",
       "      <td>1</td>\n",
       "      <td>0</td>\n",
       "      <td>0</td>\n",
       "      <td>0</td>\n",
       "      <td>1</td>\n",
       "      <td>0</td>\n",
       "      <td>0</td>\n",
       "      <td>1</td>\n",
       "      <td>0</td>\n",
       "      <td>0</td>\n",
       "    </tr>\n",
       "  </tbody>\n",
       "</table>\n",
       "</div>"
      ],
      "text/plain": [
       "   at_home  health  other  services  teacher  at_home  health  other  \\\n",
       "0        1       0      0         0        0        0       0      0   \n",
       "1        1       0      0         0        0        0       0      1   \n",
       "2        1       0      0         0        0        0       0      1   \n",
       "3        0       1      0         0        0        0       0      0   \n",
       "4        0       0      1         0        0        0       0      1   \n",
       "\n",
       "   services  teacher  course  home  other  reputation  father  mother  other  \n",
       "0         0        1       1     0      0           0       0       1      0  \n",
       "1         0        0       1     0      0           0       1       0      0  \n",
       "2         0        0       0     0      1           0       0       1      0  \n",
       "3         1        0       0     1      0           0       0       1      0  \n",
       "4         0        0       0     1      0           0       1       0      0  "
      ]
     },
     "execution_count": 368,
     "metadata": {},
     "output_type": "execute_result"
    }
   ],
   "source": [
    "#Извлечем категориальные признаки\n",
    "\n",
    "cat_df = pd.concat([pd.get_dummies(df['Mjob']), pd.get_dummies(df['Fjob']), pd.get_dummies(df['reason']),\n",
    "           pd.get_dummies(df['guardian'])],axis = 1)\n",
    "cat_features = cat_df.values\n",
    "cat_df.head()"
   ]
  },
  {
   "cell_type": "code",
   "execution_count": 369,
   "metadata": {
    "collapsed": false
   },
   "outputs": [
    {
     "name": "stdout",
     "output_type": "stream",
     "text": [
      "Кол-во признаков: 56\n"
     ]
    }
   ],
   "source": [
    "features = np.hstack([num_features, bin_features, cat_features])\n",
    "print(\"Кол-во признаков:\", len(features[0]))"
   ]
  },
  {
   "cell_type": "markdown",
   "metadata": {},
   "source": [
    "**(1 балл)(!)** Проверьте, насколько хорошо работает линейная регрессия (`sklearn.linear_model.LinearRegression`) на этих данных с помощью кросс-валидации (`sklearn.cross_validation.cross_val_score`). Для этого в функцию `cross_val_score` нужно передать аргумент `scoring='mean_squared_error'` (учтите, что по техническим причинам функция будет возвращать значения MSE с минусом). Выведите результат в терминах RMSE."
   ]
  },
  {
   "cell_type": "code",
   "execution_count": 370,
   "metadata": {
    "collapsed": false
   },
   "outputs": [],
   "source": [
    "from sklearn.cross_validation import cross_val_score\n",
    "from sklearn.linear_model import LinearRegression\n",
    "\n",
    "def testreg(reg):\n",
    "    score =  cross_val_score(reg,features,target, scoring='mean_squared_error')\n",
    "    print('RMSE = ', (abs(score)**0.5).mean())"
   ]
  },
  {
   "cell_type": "code",
   "execution_count": 371,
   "metadata": {
    "collapsed": false
   },
   "outputs": [
    {
     "name": "stdout",
     "output_type": "stream",
     "text": [
      "RMSE =  2.91995290625\n"
     ]
    }
   ],
   "source": [
    "linreg = LinearRegression()\n",
    "testreg(linreg)"
   ]
  },
  {
   "cell_type": "markdown",
   "metadata": {},
   "source": [
    "**(2 балла)(!)**\n",
    "Теперь проверьте качество работы всех следующих регрессоров (используйте любые параметры):\n",
    "* Линейная регрессия с $L_1$-регуляризацией (`sklearn.linear_model.Lasso`)\n",
    "* Линейная регрессия с $L_2$-регуляризацией (`sklearn.linear_model.Ridge`)\n",
    "* Дерево решений (`sklearn.tree.DecisionTreeRegressor`)\n",
    "* Случайный лес (`sklearn.ensemble.RandomForestRegressor`)\n",
    "* Метод ближайших соседей (`sklearn.neighbors.KNeighborsRegressor`)"
   ]
  },
  {
   "cell_type": "code",
   "execution_count": 372,
   "metadata": {
    "collapsed": true
   },
   "outputs": [],
   "source": [
    "from sklearn.linear_model import Ridge, Lasso\n",
    "from sklearn.tree import DecisionTreeRegressor\n",
    "from sklearn.ensemble import RandomForestRegressor\n",
    "from sklearn.neighbors import KNeighborsRegressor"
   ]
  },
  {
   "cell_type": "code",
   "execution_count": 373,
   "metadata": {
    "collapsed": false
   },
   "outputs": [
    {
     "name": "stdout",
     "output_type": "stream",
     "text": [
      "RMSE =  2.90126904781\n"
     ]
    }
   ],
   "source": [
    "ridge_reg = Ridge(alpha=5)\n",
    "testreg(ridge_reg)"
   ]
  },
  {
   "cell_type": "code",
   "execution_count": 374,
   "metadata": {
    "collapsed": false
   },
   "outputs": [
    {
     "name": "stdout",
     "output_type": "stream",
     "text": [
      "RMSE =  3.10107811734\n"
     ]
    }
   ],
   "source": [
    "lasso_reg = Lasso(alpha=0.3)\n",
    "testreg(lasso_reg)"
   ]
  },
  {
   "cell_type": "code",
   "execution_count": 375,
   "metadata": {
    "collapsed": false
   },
   "outputs": [
    {
     "name": "stdout",
     "output_type": "stream",
     "text": [
      "RMSE =  3.13230768108\n"
     ]
    }
   ],
   "source": [
    "Tree_reg = DecisionTreeRegressor(max_depth = 4)\n",
    "testreg(Tree_reg)"
   ]
  },
  {
   "cell_type": "code",
   "execution_count": 376,
   "metadata": {
    "collapsed": false
   },
   "outputs": [
    {
     "name": "stdout",
     "output_type": "stream",
     "text": [
      "RMSE =  3.00857559289\n"
     ]
    }
   ],
   "source": [
    "Forest_reg = RandomForestRegressor()\n",
    "testreg(Forest_reg)"
   ]
  },
  {
   "cell_type": "code",
   "execution_count": 377,
   "metadata": {
    "collapsed": false
   },
   "outputs": [
    {
     "name": "stdout",
     "output_type": "stream",
     "text": [
      "RMSE =  3.20526703782\n"
     ]
    }
   ],
   "source": [
    "Neigh_reg = KNeighborsRegressor(weights = 'distance')\n",
    "testreg(Neigh_reg)"
   ]
  },
  {
   "cell_type": "markdown",
   "metadata": {},
   "source": [
    "Теперь ваша задача - подобрать наилучший способ обучения. Для этого можно применять разные приемы, за проверку каждого из них вы получаете баллы (код проверки для неудачных вариантов нужно оставить):\n",
    "* **(1 балл)** Шкалирование признаков (`sklearn.preprocessing.StandardScaler()` и др.)\n",
    "* **(2 балла)** Подбор оптимальных параметров перебором\n",
    "* **(2 балла)** Отбор признаков с помощью, например, корреляции Пирсона"
   ]
  },
  {
   "cell_type": "code",
   "execution_count": 378,
   "metadata": {
    "collapsed": true
   },
   "outputs": [],
   "source": [
    "# Шкалирование признаков\n",
    "from sklearn.preprocessing import StandardScaler\n",
    "scaler = StandardScaler()\n",
    "features2 = features\n",
    "features = scaler.fit_transform(features)"
   ]
  },
  {
   "cell_type": "code",
   "execution_count": 379,
   "metadata": {
    "collapsed": false
   },
   "outputs": [
    {
     "name": "stdout",
     "output_type": "stream",
     "text": [
      "RMSE =  3.07434191485\n"
     ]
    }
   ],
   "source": [
    "from sklearn.ensemble import ExtraTreesRegressor\n",
    "model = ExtraTreesRegressor().fit(features,target)\n",
    "testreg(model)"
   ]
  },
  {
   "cell_type": "code",
   "execution_count": 380,
   "metadata": {
    "collapsed": false
   },
   "outputs": [
    {
     "data": {
      "text/plain": [
       "array([ 0.02416143,  0.02745692,  0.0276871 ,  0.02396428,  0.03082291,\n",
       "        0.14328998,  0.02194151,  0.02437738,  0.03040217,  0.02630531,\n",
       "        0.03613885,  0.01640963,  0.04257566,  0.01431783,  0.0340347 ,\n",
       "        0.0174746 ,  0.01162812,  0.00676052,  0.00890209,  0.01218052,\n",
       "        0.00700573,  0.00815112,  0.0046458 ,  0.00568495,  0.0174414 ,\n",
       "        0.01672007,  0.0094052 ,  0.00115381,  0.00195149,  0.00789975,\n",
       "        0.01638682,  0.00922879,  0.00730696,  0.0372565 ,  0.03796031,\n",
       "        0.00902844,  0.00639561,  0.00846427,  0.00663723,  0.01025787,\n",
       "        0.00912489,  0.01399024,  0.00690017,  0.01231696,  0.00857112,\n",
       "        0.003545  ,  0.01173598,  0.01359738,  0.0240355 ,  0.01548044,\n",
       "        0.00840865,  0.02094134,  0.01907228,  0.01068454,  0.00884815,\n",
       "        0.00293373])"
      ]
     },
     "execution_count": 380,
     "metadata": {},
     "output_type": "execute_result"
    }
   ],
   "source": [
    "model.feature_importances_"
   ]
  },
  {
   "cell_type": "code",
   "execution_count": 381,
   "metadata": {
    "collapsed": false
   },
   "outputs": [],
   "source": [
    "#np.delete(features, np.s_[19,20,25,43,48,53],1)"
   ]
  },
  {
   "cell_type": "code",
   "execution_count": 382,
   "metadata": {
    "collapsed": false
   },
   "outputs": [
    {
     "data": {
      "image/png": "[encoded data removed]",
      "text/plain": [
       "<matplotlib.figure.Figure at 0x6ef4fb59e8>"
      ]
     },
     "metadata": {},
     "output_type": "display_data"
    }
   ],
   "source": [
    "from scipy.stats import pearsonr\n",
    "\n",
    "corrs = []\n",
    "for f in range(len(features.T)):\n",
    "    corrs.append(abs(pearsonr(features[:, f], target)[0]))\n",
    "    \n",
    "ypos = range(56)\n",
    "plt.barh(ypos, corrs)\n",
    "pass"
   ]
  },
  {
   "cell_type": "code",
   "execution_count": 383,
   "metadata": {
    "collapsed": false
   },
   "outputs": [],
   "source": [
    "bad_feat = []\n",
    "for i in range(len(corrs)):\n",
    "    if corrs[i]<0.1:\n",
    "        bad_feat.append(i)"
   ]
  },
  {
   "cell_type": "code",
   "execution_count": 384,
   "metadata": {
    "collapsed": false
   },
   "outputs": [],
   "source": [
    "features = np.delete(features, bad_feat,1)"
   ]
  },
  {
   "cell_type": "code",
   "execution_count": 385,
   "metadata": {
    "collapsed": false
   },
   "outputs": [
    {
     "data": {
      "text/plain": [
       "25"
      ]
     },
     "execution_count": 385,
     "metadata": {},
     "output_type": "execute_result"
    }
   ],
   "source": [
    "len(features.T)"
   ]
  },
  {
   "cell_type": "code",
   "execution_count": 386,
   "metadata": {
    "collapsed": false
   },
   "outputs": [
    {
     "name": "stdout",
     "output_type": "stream",
     "text": [
      "RMSE =  2.8843627507\n"
     ]
    }
   ],
   "source": [
    "testreg(ridge_reg)"
   ]
  },
  {
   "cell_type": "markdown",
   "metadata": {},
   "source": [
    "Ошибка уменьшилась после отбора признаков и масштабирования!"
   ]
  },
  {
   "cell_type": "markdown",
   "metadata": {},
   "source": [
    "\n",
    "# Подберем наилучшие параметры для L-2 и L-1 регуляризации"
   ]
  },
  {
   "cell_type": "code",
   "execution_count": 387,
   "metadata": {
    "collapsed": false
   },
   "outputs": [
    {
     "name": "stdout",
     "output_type": "stream",
     "text": [
      "RMSE =  2.88273665295\n",
      "10.0\n"
     ]
    }
   ],
   "source": [
    "from sklearn.linear_model import RidgeCV\n",
    "cv = RidgeCV(alphas = np.logspace(-4,1,100,base = 10))\n",
    "testreg(cv)\n",
    "cv.fit(features,target)\n",
    "print(cv.alpha_)"
   ]
  },
  {
   "cell_type": "code",
   "execution_count": 388,
   "metadata": {
    "collapsed": false
   },
   "outputs": [
    {
     "name": "stdout",
     "output_type": "stream",
     "text": [
      "RMSE =  2.85996763567\n",
      "0.0599484250319\n"
     ]
    }
   ],
   "source": [
    "from sklearn.linear_model import LassoCV\n",
    "cv2 = LassoCV(alphas = np.logspace(-4,1,100,base = 10),n_jobs = -1)\n",
    "testreg(cv2)\n",
    "cv2.fit(features,target)\n",
    "print(cv2.alpha_)"
   ]
  },
  {
   "cell_type": "markdown",
   "metadata": {},
   "source": [
    "# Подберем наилучшие параметры для решающего дерева и леса"
   ]
  },
  {
   "cell_type": "code",
   "execution_count": 389,
   "metadata": {
    "collapsed": true
   },
   "outputs": [],
   "source": [
    "from sklearn.cross_validation import train_test_split\n",
    "from sklearn.metrics import mean_squared_error\n",
    "X_train, X_test, y_train, y_test = train_test_split(\n",
    "    features, target, test_size=0.3, random_state = 6632)"
   ]
  },
  {
   "cell_type": "code",
   "execution_count": 390,
   "metadata": {
    "collapsed": false
   },
   "outputs": [
    {
     "data": {
      "image/png": "[encoded data removed]",
      "text/plain": [
       "<matplotlib.figure.Figure at 0x6ef5c765c0>"
      ]
     },
     "metadata": {},
     "output_type": "display_data"
    }
   ],
   "source": [
    "def rmse_on_depth(reg_class, alpha_values):\n",
    "    error = []\n",
    "    for alpha in alpha_values:\n",
    "        reg = reg_class(max_depth=alpha)\n",
    "        score =  cross_val_score(reg,features,target, scoring='mean_squared_error')\n",
    "        error.append((abs(score)**0.5).mean())\n",
    "        \n",
    "    plt.figure()\n",
    "    plt.plot(alpha_values, error)\n",
    "    \n",
    "rmse_on_depth(DecisionTreeRegressor, np.arange(1, 10, 1))"
   ]
  },
  {
   "cell_type": "code",
   "execution_count": 391,
   "metadata": {
    "collapsed": false
   },
   "outputs": [
    {
     "name": "stdout",
     "output_type": "stream",
     "text": [
      "RMSE =  2.96831970261\n"
     ]
    }
   ],
   "source": [
    "Tree_reg = DecisionTreeRegressor(max_depth = 1)\n",
    "testreg(Tree_reg)"
   ]
  },
  {
   "cell_type": "code",
   "execution_count": 392,
   "metadata": {
    "collapsed": false
   },
   "outputs": [
    {
     "data": {
      "image/png": "[encoded data removed]",
      "text/plain": [
       "<matplotlib.figure.Figure at 0x6ef51729e8>"
      ]
     },
     "metadata": {},
     "output_type": "display_data"
    }
   ],
   "source": [
    "def rmse_on_estim(reg_class, alpha_values):\n",
    "    error = []\n",
    "    for alpha in alpha_values:\n",
    "        reg = reg_class(n_estimators=alpha)\n",
    "        score =  cross_val_score(reg,features,target, scoring='mean_squared_error')\n",
    "        error.append((abs(score)**0.5).mean())\n",
    "        \n",
    "    plt.figure()\n",
    "    plt.plot(alpha_values, error)\n",
    "    \n",
    "rmse_on_estim(RandomForestRegressor, np.arange(10, 30, 1))"
   ]
  },
  {
   "cell_type": "code",
   "execution_count": 393,
   "metadata": {
    "collapsed": false
   },
   "outputs": [
    {
     "name": "stdout",
     "output_type": "stream",
     "text": [
      "RMSE =  2.92416161245\n"
     ]
    }
   ],
   "source": [
    "forest_reg = RandomForestRegressor(n_estimators = 21)\n",
    "testreg(forest_reg)"
   ]
  },
  {
   "cell_type": "code",
   "execution_count": 394,
   "metadata": {
    "collapsed": false
   },
   "outputs": [
    {
     "name": "stdout",
     "output_type": "stream",
     "text": [
      "RMSE =  2.93723799298\n"
     ]
    }
   ],
   "source": [
    "forest_reg = RandomForestRegressor(n_estimators = 14, max_depth = 6)\n",
    "testreg(forest_reg)"
   ]
  },
  {
   "cell_type": "code",
   "execution_count": 395,
   "metadata": {
    "collapsed": false
   },
   "outputs": [
    {
     "name": "stdout",
     "output_type": "stream",
     "text": [
      "RMSE =  2.93105107312\n"
     ]
    }
   ],
   "source": [
    "forest_reg = RandomForestRegressor(n_estimators = 14, max_depth = 5)\n",
    "testreg(forest_reg)"
   ]
  },
  {
   "cell_type": "code",
   "execution_count": 396,
   "metadata": {
    "collapsed": false
   },
   "outputs": [
    {
     "name": "stdout",
     "output_type": "stream",
     "text": [
      "RMSE =  2.95047349884\n"
     ]
    }
   ],
   "source": [
    "forest_reg = RandomForestRegressor(n_estimators = 14, max_depth = 4)\n",
    "testreg(forest_reg)"
   ]
  },
  {
   "cell_type": "code",
   "execution_count": 397,
   "metadata": {
    "collapsed": false
   },
   "outputs": [
    {
     "name": "stdout",
     "output_type": "stream",
     "text": [
      "RMSE =  2.97549715353\n"
     ]
    }
   ],
   "source": [
    "forest_reg = RandomForestRegressor(n_estimators = 14, max_depth = 3)\n",
    "testreg(forest_reg)"
   ]
  },
  {
   "cell_type": "markdown",
   "metadata": {},
   "source": [
    "# Подберем параметры для KNeighbors"
   ]
  },
  {
   "cell_type": "code",
   "execution_count": 398,
   "metadata": {
    "collapsed": false
   },
   "outputs": [
    {
     "name": "stdout",
     "output_type": "stream",
     "text": [
      "RMSE =  3.08986605749\n"
     ]
    }
   ],
   "source": [
    "Neigh_reg = KNeighborsRegressor(weights = 'distance')\n",
    "testreg(Neigh_reg)"
   ]
  },
  {
   "cell_type": "code",
   "execution_count": 399,
   "metadata": {
    "collapsed": false
   },
   "outputs": [
    {
     "name": "stdout",
     "output_type": "stream",
     "text": [
      "RMSE =  3.10250193619\n"
     ]
    }
   ],
   "source": [
    "Neigh_reg = KNeighborsRegressor()\n",
    "testreg(Neigh_reg)"
   ]
  },
  {
   "cell_type": "code",
   "execution_count": 400,
   "metadata": {
    "collapsed": false
   },
   "outputs": [
    {
     "name": "stdout",
     "output_type": "stream",
     "text": [
      "RMSE =  3.01471315844\n"
     ]
    }
   ],
   "source": [
    "Neigh_reg = KNeighborsRegressor(n_neighbors = 10, weights = 'distance')\n",
    "testreg(Neigh_reg)"
   ]
  },
  {
   "cell_type": "code",
   "execution_count": 401,
   "metadata": {
    "collapsed": false
   },
   "outputs": [
    {
     "name": "stdout",
     "output_type": "stream",
     "text": [
      "RMSE =  2.98127540432\n"
     ]
    }
   ],
   "source": [
    "Neigh_reg = KNeighborsRegressor(n_neighbors = 11, weights = 'distance')\n",
    "testreg(Neigh_reg)"
   ]
  },
  {
   "cell_type": "code",
   "execution_count": 402,
   "metadata": {
    "collapsed": false
   },
   "outputs": [
    {
     "name": "stdout",
     "output_type": "stream",
     "text": [
      "RMSE =  2.97642081769\n"
     ]
    }
   ],
   "source": [
    "Neigh_reg = KNeighborsRegressor(n_neighbors = 12, weights = 'distance')\n",
    "testreg(Neigh_reg)"
   ]
  },
  {
   "cell_type": "code",
   "execution_count": 403,
   "metadata": {
    "collapsed": false
   },
   "outputs": [
    {
     "name": "stdout",
     "output_type": "stream",
     "text": [
      "RMSE =  2.98127540432\n"
     ]
    }
   ],
   "source": [
    "best_Neigh_reg = KNeighborsRegressor(n_neighbors = 11, weights = 'distance')\n",
    "testreg(best_Neigh_reg)"
   ]
  },
  {
   "cell_type": "markdown",
   "metadata": {},
   "source": [
    "# Итог: лучшим регрессором оказалась линейная регрессия с L-1 регуляризацией"
   ]
  },
  {
   "cell_type": "code",
   "execution_count": 404,
   "metadata": {
    "collapsed": false
   },
   "outputs": [
    {
     "name": "stdout",
     "output_type": "stream",
     "text": [
      "RMSE =  2.88273665295\n"
     ]
    }
   ],
   "source": [
    "cv = Ridge(alpha = 10)\n",
    "testreg(cv)"
   ]
  }
 ],
 "metadata": {
  "kernelspec": {
   "display_name": "Python 3",
   "language": "python",
   "name": "python3"
  },
  "language_info": {
   "codemirror_mode": {
    "name": "ipython",
    "version": 3
   },
   "file_extension": ".py",
   "mimetype": "text/x-python",
   "name": "python",
   "nbconvert_exporter": "python",
   "pygments_lexer": "ipython3",
   "version": "3.5.2"
  }
 },
 "nbformat": 4,
 "nbformat_minor": 0
}
