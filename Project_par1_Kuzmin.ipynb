{
 "cells": [
  {
   "cell_type": "code",
   "execution_count": 1,
   "metadata": {
    "collapsed": false
   },
   "outputs": [],
   "source": [
    "%matplotlib inline\n",
    "import pandas as pd\n",
    "import matplotlib.pylab as plt\n",
    "from scipy import stats\n",
    "import numpy as np\n",
    "import matplotlib.patches as mpatches\n",
    "import matplotlib.pyplot as plt"
   ]
  },
  {
   "cell_type": "markdown",
   "metadata": {},
   "source": [
    "# Загрузка данных "
   ]
  },
  {
   "cell_type": "code",
   "execution_count": 2,
   "metadata": {
    "collapsed": false
   },
   "outputs": [],
   "source": [
    "data = pd.read_csv('D://Проект майнор/student-por.csv', sep = ';')\n"
   ]
  },
  {
   "cell_type": "code",
   "execution_count": 3,
   "metadata": {
    "collapsed": false
   },
   "outputs": [
    {
     "data": {
      "text/html": [
       "<div>\n",
       "<table border=\"1\" class=\"dataframe\">\n",
       "  <thead>\n",
       "    <tr style=\"text-align: right;\">\n",
       "      <th></th>\n",
       "      <th>school</th>\n",
       "      <th>sex</th>\n",
       "      <th>age</th>\n",
       "      <th>address</th>\n",
       "      <th>famsize</th>\n",
       "      <th>Pstatus</th>\n",
       "      <th>Medu</th>\n",
       "      <th>Fedu</th>\n",
       "      <th>Mjob</th>\n",
       "      <th>Fjob</th>\n",
       "      <th>...</th>\n",
       "      <th>famrel</th>\n",
       "      <th>freetime</th>\n",
       "      <th>goout</th>\n",
       "      <th>Dalc</th>\n",
       "      <th>Walc</th>\n",
       "      <th>health</th>\n",
       "      <th>absences</th>\n",
       "      <th>G1</th>\n",
       "      <th>G2</th>\n",
       "      <th>G3</th>\n",
       "    </tr>\n",
       "  </thead>\n",
       "  <tbody>\n",
       "    <tr>\n",
       "      <th>0</th>\n",
       "      <td>GP</td>\n",
       "      <td>F</td>\n",
       "      <td>18</td>\n",
       "      <td>U</td>\n",
       "      <td>GT3</td>\n",
       "      <td>A</td>\n",
       "      <td>4</td>\n",
       "      <td>4</td>\n",
       "      <td>at_home</td>\n",
       "      <td>teacher</td>\n",
       "      <td>...</td>\n",
       "      <td>4</td>\n",
       "      <td>3</td>\n",
       "      <td>4</td>\n",
       "      <td>1</td>\n",
       "      <td>1</td>\n",
       "      <td>3</td>\n",
       "      <td>4</td>\n",
       "      <td>0</td>\n",
       "      <td>11</td>\n",
       "      <td>11</td>\n",
       "    </tr>\n",
       "    <tr>\n",
       "      <th>1</th>\n",
       "      <td>GP</td>\n",
       "      <td>F</td>\n",
       "      <td>17</td>\n",
       "      <td>U</td>\n",
       "      <td>GT3</td>\n",
       "      <td>T</td>\n",
       "      <td>1</td>\n",
       "      <td>1</td>\n",
       "      <td>at_home</td>\n",
       "      <td>other</td>\n",
       "      <td>...</td>\n",
       "      <td>5</td>\n",
       "      <td>3</td>\n",
       "      <td>3</td>\n",
       "      <td>1</td>\n",
       "      <td>1</td>\n",
       "      <td>3</td>\n",
       "      <td>2</td>\n",
       "      <td>9</td>\n",
       "      <td>11</td>\n",
       "      <td>11</td>\n",
       "    </tr>\n",
       "    <tr>\n",
       "      <th>2</th>\n",
       "      <td>GP</td>\n",
       "      <td>F</td>\n",
       "      <td>15</td>\n",
       "      <td>U</td>\n",
       "      <td>LE3</td>\n",
       "      <td>T</td>\n",
       "      <td>1</td>\n",
       "      <td>1</td>\n",
       "      <td>at_home</td>\n",
       "      <td>other</td>\n",
       "      <td>...</td>\n",
       "      <td>4</td>\n",
       "      <td>3</td>\n",
       "      <td>2</td>\n",
       "      <td>2</td>\n",
       "      <td>3</td>\n",
       "      <td>3</td>\n",
       "      <td>6</td>\n",
       "      <td>12</td>\n",
       "      <td>13</td>\n",
       "      <td>12</td>\n",
       "    </tr>\n",
       "    <tr>\n",
       "      <th>3</th>\n",
       "      <td>GP</td>\n",
       "      <td>F</td>\n",
       "      <td>15</td>\n",
       "      <td>U</td>\n",
       "      <td>GT3</td>\n",
       "      <td>T</td>\n",
       "      <td>4</td>\n",
       "      <td>2</td>\n",
       "      <td>health</td>\n",
       "      <td>services</td>\n",
       "      <td>...</td>\n",
       "      <td>3</td>\n",
       "      <td>2</td>\n",
       "      <td>2</td>\n",
       "      <td>1</td>\n",
       "      <td>1</td>\n",
       "      <td>5</td>\n",
       "      <td>0</td>\n",
       "      <td>14</td>\n",
       "      <td>14</td>\n",
       "      <td>14</td>\n",
       "    </tr>\n",
       "    <tr>\n",
       "      <th>4</th>\n",
       "      <td>GP</td>\n",
       "      <td>F</td>\n",
       "      <td>16</td>\n",
       "      <td>U</td>\n",
       "      <td>GT3</td>\n",
       "      <td>T</td>\n",
       "      <td>3</td>\n",
       "      <td>3</td>\n",
       "      <td>other</td>\n",
       "      <td>other</td>\n",
       "      <td>...</td>\n",
       "      <td>4</td>\n",
       "      <td>3</td>\n",
       "      <td>2</td>\n",
       "      <td>1</td>\n",
       "      <td>2</td>\n",
       "      <td>5</td>\n",
       "      <td>0</td>\n",
       "      <td>11</td>\n",
       "      <td>13</td>\n",
       "      <td>13</td>\n",
       "    </tr>\n",
       "  </tbody>\n",
       "</table>\n",
       "<p>5 rows × 33 columns</p>\n",
       "</div>"
      ],
      "text/plain": [
       "  school sex  age address famsize Pstatus  Medu  Fedu     Mjob      Fjob ...  \\\n",
       "0     GP   F   18       U     GT3       A     4     4  at_home   teacher ...   \n",
       "1     GP   F   17       U     GT3       T     1     1  at_home     other ...   \n",
       "2     GP   F   15       U     LE3       T     1     1  at_home     other ...   \n",
       "3     GP   F   15       U     GT3       T     4     2   health  services ...   \n",
       "4     GP   F   16       U     GT3       T     3     3    other     other ...   \n",
       "\n",
       "  famrel freetime  goout  Dalc  Walc health absences  G1  G2  G3  \n",
       "0      4        3      4     1     1      3        4   0  11  11  \n",
       "1      5        3      3     1     1      3        2   9  11  11  \n",
       "2      4        3      2     2     3      3        6  12  13  12  \n",
       "3      3        2      2     1     1      5        0  14  14  14  \n",
       "4      4        3      2     1     2      5        0  11  13  13  \n",
       "\n",
       "[5 rows x 33 columns]"
      ]
     },
     "execution_count": 3,
     "metadata": {},
     "output_type": "execute_result"
    }
   ],
   "source": [
    "data.head()"
   ]
  },
  {
   "cell_type": "markdown",
   "metadata": {},
   "source": [
    "# 1. Знакомство с данными"
   ]
  },
  {
   "cell_type": "markdown",
   "metadata": {},
   "source": [
    "Объектом в задаче является ученик. Объект задается признаковым описанием.\n"
   ]
  },
  {
   "cell_type": "code",
   "execution_count": 474,
   "metadata": {
    "collapsed": false
   },
   "outputs": [
    {
     "name": "stdout",
     "output_type": "stream",
     "text": [
      "Кол-во признаков: 33\n"
     ]
    }
   ],
   "source": [
    "print('Кол-во признаков:',len(data.columns))"
   ]
  },
  {
   "cell_type": "code",
   "execution_count": 475,
   "metadata": {
    "collapsed": false
   },
   "outputs": [
    {
     "name": "stdout",
     "output_type": "stream",
     "text": [
      "649\n",
      "649\n"
     ]
    }
   ],
   "source": [
    "print(len(data))\n",
    "data = data.dropna()\n",
    "print(len(data))"
   ]
  },
  {
   "cell_type": "markdown",
   "metadata": {},
   "source": [
    "Итог: пропусков в данных не было."
   ]
  },
  {
   "cell_type": "code",
   "execution_count": 476,
   "metadata": {
    "collapsed": false
   },
   "outputs": [
    {
     "name": "stdout",
     "output_type": "stream",
     "text": [
      "school  - бинарный признак, множество значений =  {'MS', 'GP'} состоит из двух элементов, можно привести к виду {0, 1}\n",
      "sex  - бинарный признак, множество значений =  {'M', 'F'} состоит из двух элементов, можно привести к виду {0, 1}\n",
      "age  - числовой признак, так как множество значений = {15, 16, 17, 18, 19, 20, 21, 22}\n",
      "address  - бинарный признак, множество значений =  {'R', 'U'} состоит из двух элементов, можно привести к виду {0, 1}\n",
      "famsize  - бинарный признак, множество значений =  {'LE3', 'GT3'} состоит из двух элементов, можно привести к виду {0, 1}\n",
      "Pstatus  - бинарный признак, множество значений =  {'A', 'T'} состоит из двух элементов, можно привести к виду {0, 1}\n",
      "Medu  - категориальный признак, множество значений: {0, 1, 2, 3, 4} , где число означает принадлженость к категории\n",
      "Fedu  - категориальный признак, множество значений: {0, 1, 2, 3, 4} , где число означает принадлженость к категории\n",
      "Mjob  - категориальный признак, множество значений: {'services', 'other', 'at_home', 'teacher', 'health'}\n",
      "Fjob  - категориальный признак, множество значений: {'services', 'other', 'at_home', 'teacher', 'health'}\n",
      "reason  - категориальный признак, множество значений: {'other', 'home', 'course', 'reputation'}\n",
      "guardian  - категориальный признак, множество значений: {'other', 'mother', 'father'}\n",
      "traveltime  - категориальный признак, множество значений: {1, 2, 3, 4} , где число означает принадлженость к категории\n",
      "studytime  - категориальный признак, множество значений: {1, 2, 3, 4} , где число означает принадлженость к категории\n",
      "failures  - числовой признак, так как множество значений = {0, 1, 2, 3}\n",
      "schoolsup  - бинарный признак, множество значений =  {'no', 'yes'} состоит из двух элементов, можно привести к виду {0, 1}\n",
      "famsup  - бинарный признак, множество значений =  {'no', 'yes'} состоит из двух элементов, можно привести к виду {0, 1}\n",
      "paid  - бинарный признак, множество значений =  {'no', 'yes'} состоит из двух элементов, можно привести к виду {0, 1}\n",
      "activities  - бинарный признак, множество значений =  {'no', 'yes'} состоит из двух элементов, можно привести к виду {0, 1}\n",
      "nursery  - бинарный признак, множество значений =  {'no', 'yes'} состоит из двух элементов, можно привести к виду {0, 1}\n",
      "higher  - бинарный признак, множество значений =  {'no', 'yes'} состоит из двух элементов, можно привести к виду {0, 1}\n",
      "internet  - бинарный признак, множество значений =  {'no', 'yes'} состоит из двух элементов, можно привести к виду {0, 1}\n",
      "romantic  - бинарный признак, множество значений =  {'no', 'yes'} состоит из двух элементов, можно привести к виду {0, 1}\n",
      "famrel  - категориальный признак, множество значений: {1, 2, 3, 4, 5} , где число означает принадлженость к категории\n",
      "freetime  - категориальный признак, множество значений: {1, 2, 3, 4, 5} , где число означает принадлженость к категории\n",
      "goout  - категориальный признак, множество значений: {1, 2, 3, 4, 5} , где число означает принадлженость к категории\n",
      "Dalc  - категориальный признак, множество значений: {1, 2, 3, 4, 5} , где число означает принадлженость к категории\n",
      "Walc  - категориальный признак, множество значений: {1, 2, 3, 4, 5} , где число означает принадлженость к категории\n",
      "health  - категориальный признак, множество значений: {1, 2, 3, 4, 5} , где число означает принадлженость к категории\n",
      "absences  - числовой признак, так как множество значений = {0, 1, 2, 3, 4, 5, 6, 7, 8, 9, 10, 11, 12, 13, 14, 15, 16, 18, 21, 22, 24, 26, 30, 32}\n",
      "G1  - числовой признак, так как множество значений = {0, 4, 5, 6, 7, 8, 9, 10, 11, 12, 13, 14, 15, 16, 17, 18, 19}\n",
      "G2  - числовой признак, так как множество значений = {0, 5, 6, 7, 8, 9, 10, 11, 12, 13, 14, 15, 16, 17, 18, 19}\n",
      "G3  - числовой признак, так как множество значений = {0, 1, 5, 6, 7, 8, 9, 10, 11, 12, 13, 14, 15, 16, 17, 18, 19}\n"
     ]
    }
   ],
   "source": [
    "# изучив признаки, их можно классифицировать программно, чтобы потом не искать еще раз числовые признаки для след заданий\n",
    "features = [(x) for x in data.columns]\n",
    "b = []\n",
    "v=[]\n",
    "l = {i for i in range(1,6)}\n",
    "l1 = {i for i in range(5)}\n",
    "l2 = {i for i in range(1,5)}\n",
    "for x in features:\n",
    "    b.append(set(data[x]))\n",
    "d = {x:set(data[x]) for x in data.columns}\n",
    "for i in range(len(b)):\n",
    "    if len(b[i])==2:\n",
    "        print(features[i],' - бинарный признак, множество значений = ', b[i],\n",
    "              'состоит из двух элементов, можно привести к виду {0, 1}')\n",
    "        v.append(0)\n",
    "    elif b[i]==l or b[i] == l1 or b[i] ==l2:\n",
    "        print(features[i],' - категориальный признак, множество значений:', b[i],\n",
    "              ', где число означает принадлженость к категории')\n",
    "        v.append(2)\n",
    "    else:\n",
    "        for elem in b[i]:                \n",
    "            if str(elem).isdigit():\n",
    "                print(features[i],' - числовой признак, так как множество значений =', b[i])\n",
    "                v.append(1)\n",
    "            else:\n",
    "                print(features[i],' - категориальный признак, множество значений:', b[i])\n",
    "                v.append(2)\n",
    "            break"
   ]
  },
  {
   "cell_type": "markdown",
   "metadata": {},
   "source": [
    "\n",
    "# 2. Целевой признак"
   ]
  },
  {
   "cell_type": "markdown",
   "metadata": {},
   "source": [
    "Данная задача (предсказание оценки по предмету) может быть решена регрессией, так как можно получать вещественные значения из отрезка от 0 до 20 и округлять их до целого. Так как ответов в данной задаче конечное число, то данную задачу можно рассмотреть как многоклассовую классификацию, где каждый класс  - это оценка, которую получит ученик. \n",
    "Я считаю, что для данной задачи лучше использовать классификацию, так как признаков достаточно много, что может затруднить решение задачи регрессией. "
   ]
  },
  {
   "cell_type": "code",
   "execution_count": 477,
   "metadata": {
    "collapsed": false
   },
   "outputs": [
    {
     "name": "stdout",
     "output_type": "stream",
     "text": [
      "Самое частое значение:  [11]\n",
      "Средний балл:  11.906009244992296\n",
      "Нет студентов, ролучивших 20\n",
      "Есть студенты, получившие 0\n"
     ]
    },
    {
     "data": {
      "image/png": "[encoded data removed]",
      "text/plain": [
       "<matplotlib.figure.Figure at 0xdf1411c710>"
      ]
     },
     "metadata": {},
     "output_type": "display_data"
    }
   ],
   "source": [
    "data['G3'].plot(kind = 'hist', bins = 21)\n",
    "plt.xlabel('Grade')\n",
    "plt.legend()\n",
    "print('Самое частое значение: ',stats.mode(data['G3'])[0])\n",
    "print('Средний балл: ', data['G3'].mean())\n",
    "if data['G3'].max()==20:\n",
    "    print('Есть студенты, получившие 20')\n",
    "else:\n",
    "    print('Нет студентов, ролучивших 20')\n",
    "if data['G3'].min()==0:\n",
    "    print('Есть студенты, получившие 0')\n",
    "else:\n",
    "    print('Нет студентов, ролучивших 0')"
   ]
  },
  {
   "cell_type": "code",
   "execution_count": 478,
   "metadata": {
    "collapsed": false
   },
   "outputs": [
    {
     "name": "stdout",
     "output_type": "stream",
     "text": [
      "Самое частое значение:  [11]\n",
      "Средний балл:  11.570107858243452\n",
      "Нет студентов, ролучивших 20\n",
      "Есть студенты, получившие 0\n"
     ]
    },
    {
     "data": {
      "image/png": "[encoded data removed]",
      "text/plain": [
       "<matplotlib.figure.Figure at 0xdf141634e0>"
      ]
     },
     "metadata": {},
     "output_type": "display_data"
    }
   ],
   "source": [
    "data['G2'].plot(kind = 'hist', bins = 21)\n",
    "plt.xlabel('Grade')\n",
    "plt.legend()\n",
    "print('Самое частое значение: ',stats.mode(data['G2'])[0])\n",
    "print('Средний балл: ', data['G2']. mean())\n",
    "if data['G2'].max()==20:\n",
    "    print('Есть студенты, получившие 20')\n",
    "else:\n",
    "    print('Нет студентов, ролучивших 20')\n",
    "if data['G2'].min()==0:\n",
    "    print('Есть студенты, получившие 0')\n",
    "else:\n",
    "    print('Нет студентов, ролучивших 0')"
   ]
  },
  {
   "cell_type": "code",
   "execution_count": 479,
   "metadata": {
    "collapsed": false
   },
   "outputs": [
    {
     "name": "stdout",
     "output_type": "stream",
     "text": [
      "Самое частое значение:  [10]\n",
      "Средний балл:  11.399075500770415\n",
      "Нет студентов, ролучивших 20\n",
      "Есть студенты, получившие 0\n"
     ]
    },
    {
     "data": {
      "image/png": "[encoded data removed]",
      "text/plain": [
       "<matplotlib.figure.Figure at 0xdf14250400>"
      ]
     },
     "metadata": {},
     "output_type": "display_data"
    }
   ],
   "source": [
    "data['G1'].plot(kind = 'hist', bins = 21)\n",
    "plt.xlabel('Grade')\n",
    "plt.legend()\n",
    "print('Самое частое значение: ',stats.mode(data['G1'])[0])\n",
    "print('Средний балл: ', data['G1']. mean())\n",
    "if data['G1'].max()==20:\n",
    "    print('Есть студенты, получившие 20')\n",
    "else:\n",
    "    print('Нет студентов, ролучивших 20')\n",
    "if data['G1'].min()==0:\n",
    "    print('Есть студенты, получившие 0')\n",
    "else:\n",
    "    print('Нет студентов, ролучивших 0')"
   ]
  },
  {
   "cell_type": "markdown",
   "metadata": {},
   "source": [
    "Итог: для целевой переменной средний балл выше, самое частое значение совпадает с перменной G2 и на 1 больше, чем у G1"
   ]
  },
  {
   "cell_type": "code",
   "execution_count": 480,
   "metadata": {
    "collapsed": false
   },
   "outputs": [
    {
     "data": {
      "text/plain": [
       "(0.91854800356035093, 5.6424014895849495e-263)"
      ]
     },
     "execution_count": 480,
     "metadata": {},
     "output_type": "execute_result"
    }
   ],
   "source": [
    "stats.pearsonr(data['G3'], data['G2']) # корреляция G3 и G2"
   ]
  },
  {
   "cell_type": "code",
   "execution_count": 481,
   "metadata": {
    "collapsed": false
   },
   "outputs": [
    {
     "data": {
      "text/plain": [
       "(0.82638712478904719, 1.6175710073494019e-163)"
      ]
     },
     "execution_count": 481,
     "metadata": {},
     "output_type": "execute_result"
    }
   ],
   "source": [
    "stats.pearsonr(data['G3'], data['G1']) # корреляция G3 и G1"
   ]
  },
  {
   "cell_type": "markdown",
   "metadata": {},
   "source": [
    "Коэффициент корреляции близок к единице в обоих слуаях, можно говорить о наличии линейной зависимости."
   ]
  },
  {
   "cell_type": "markdown",
   "metadata": {},
   "source": [
    "# 3. Признаки, связанные со школой"
   ]
  },
  {
   "cell_type": "code",
   "execution_count": 482,
   "metadata": {
    "collapsed": false
   },
   "outputs": [
    {
     "name": "stdout",
     "output_type": "stream",
     "text": [
      "ModeResult(mode=array(['course'], dtype=object), count=array([285]))\n"
     ]
    }
   ],
   "source": [
    "print(stats.mode(data['reason']))"
   ]
  },
  {
   "cell_type": "code",
   "execution_count": 483,
   "metadata": {
    "collapsed": false
   },
   "outputs": [
    {
     "data": {
      "text/plain": [
       "school\n",
       "GP    12.576832\n",
       "MS    10.650442\n",
       "Name: G3, dtype: float64"
      ]
     },
     "execution_count": 483,
     "metadata": {},
     "output_type": "execute_result"
    },
    {
     "data": {
      "image/png": "[encoded data removed]",
      "text/plain": [
       "<matplotlib.figure.Figure at 0xdf1426c208>"
      ]
     },
     "metadata": {},
     "output_type": "display_data"
    }
   ],
   "source": [
    "data[data['school']=='GP']['G3'].plot(kind = 'hist', bins = 21, color = 'lightgreen', label = 'GP')\n",
    "data[data['school']=='MS']['G3'].plot(kind = 'hist', bins = 21, color = 'yellow', label = 'MS')\n",
    "plt.legend()\n",
    "data.groupby('school')['G3'].mean()"
   ]
  },
  {
   "cell_type": "markdown",
   "metadata": {},
   "source": [
    "Студенты школы GP получают в среднем оценки выше, чем ученики школы MS"
   ]
  },
  {
   "cell_type": "code",
   "execution_count": 484,
   "metadata": {
    "collapsed": false
   },
   "outputs": [
    {
     "data": {
      "text/plain": [
       "<matplotlib.legend.Legend at 0xdf143535c0>"
      ]
     },
     "execution_count": 484,
     "metadata": {},
     "output_type": "execute_result"
    },
    {
     "data": {
      "image/png": "[encoded data removed]",
      "text/plain": [
       "<matplotlib.figure.Figure at 0xdf14353cf8>"
      ]
     },
     "metadata": {},
     "output_type": "display_data"
    }
   ],
   "source": [
    "data[data['school']=='GP'].groupby('reason')['G3'].mean().plot(kind = 'bar', label = 'GP')\n",
    "data[data['school']=='MS'].groupby('reason')['G3'].mean().plot(kind = 'bar', color = 'lightblue', label = 'MS')\n",
    "plt.legend(bbox_to_anchor=(1.05, 1), loc=2, borderaxespad=0.)"
   ]
  },
  {
   "cell_type": "markdown",
   "metadata": {},
   "source": [
    "Независимо от школы, ученики, выбравшие данную школу из-за репутации в среднем учатся лучше остальных."
   ]
  },
  {
   "cell_type": "code",
   "execution_count": 485,
   "metadata": {
    "collapsed": false
   },
   "outputs": [
    {
     "data": {
      "text/plain": [
       "<matplotlib.legend.Legend at 0xdf14223978>"
      ]
     },
     "execution_count": 485,
     "metadata": {},
     "output_type": "execute_result"
    },
    {
     "data": {
      "image/png": "[encoded data removed]",
      "text/plain": [
       "<matplotlib.figure.Figure at 0xdf14204828>"
      ]
     },
     "metadata": {},
     "output_type": "display_data"
    }
   ],
   "source": [
    "data[data['reason'] != 'course']['G3'].plot(kind = 'hist', bins = 21, color = 'lightgrey', label = 'not course')\n",
    "data[data['reason']=='course']['G3'].plot(kind = 'hist', bins = 21, color = 'lightgreen', label = 'course')\n",
    "plt.legend()"
   ]
  },
  {
   "cell_type": "code",
   "execution_count": 486,
   "metadata": {
    "collapsed": false
   },
   "outputs": [
    {
     "name": "stdout",
     "output_type": "stream",
     "text": [
      "school\n",
      "GP    12.149701\n",
      "MS    10.694915\n",
      "Name: G3, dtype: float64 \n",
      "\n",
      "school\n",
      "GP    12.855469\n",
      "MS    10.601852\n",
      "Name: G3, dtype: float64\n"
     ]
    }
   ],
   "source": [
    "print(data[data['reason']=='course'].groupby('school')['G3'].mean(), '\\n')\n",
    "print(data[data['reason']!='course'].groupby('school')['G3'].mean())"
   ]
  },
  {
   "cell_type": "markdown",
   "metadata": {},
   "source": [
    "Для школы MS средний балл учеников, выбравших ее по самой частой причине, такой же, как у остальных, для школы GP он немного выше,чем у остальных."
   ]
  },
  {
   "cell_type": "markdown",
   "metadata": {},
   "source": [
    "#  4. Исследование других признаков"
   ]
  },
  {
   "cell_type": "code",
   "execution_count": 487,
   "metadata": {
    "collapsed": false
   },
   "outputs": [
    {
     "name": "stdout",
     "output_type": "stream",
     "text": [
      "Признак:  age\n",
      "median = 17.0 \n",
      " DescribeResult(nobs=649, minmax=(15, 22), mean=16.7442218798151, variance=1.483859308718066, skewness=0.41583144316169546, kurtosis=0.06172808922743078) \n",
      "\n",
      "Признак:  failures\n",
      "median = 0.0 \n",
      " DescribeResult(nobs=649, minmax=(0, 3), mean=0.22187981510015409, variance=0.35192794232342262, skewness=3.0855463722670793, kurtosis=9.739652089302947) \n",
      "\n",
      "Признак:  absences\n",
      "median = 2.0 \n",
      " DescribeResult(nobs=649, minmax=(0, 32), mean=3.6594761171032357, variance=21.536642317715764, skewness=2.0160203779338577, kurtosis=5.727404492467972) \n",
      "\n",
      "Признак:  G1\n",
      "median = 11.0 \n",
      " DescribeResult(nobs=649, minmax=(0, 19), mean=11.399075500770415, variance=7.5364806254636747, skewness=-0.0027672222073948627, kurtosis=0.02712580267716813) \n",
      "\n",
      "Признак:  G2\n",
      "median = 11.0 \n",
      " DescribeResult(nobs=649, minmax=(0, 19), mean=11.570107858243452, variance=8.4892902661264245, skewness=-0.35944940869047437, kurtosis=1.6404536844223285) \n",
      "\n",
      "Признак:  G3\n",
      "median = 12.0 \n",
      " DescribeResult(nobs=649, minmax=(0, 19), mean=11.906009244992296, variance=10.437139759173657, skewness=-0.9107980386425641, kurtosis=2.6821233181895012) \n",
      "\n"
     ]
    }
   ],
   "source": [
    "for i in range(len(v)):\n",
    "    if v[i]==1:\n",
    "        print('Признак: ', features[i])\n",
    "        print('median =',np.median(data[features[i]]), '\\n', stats.describe(data[features[i]]),  '\\n')"
   ]
  },
  {
   "cell_type": "code",
   "execution_count": 488,
   "metadata": {
    "collapsed": false
   },
   "outputs": [
    {
     "name": "stdout",
     "output_type": "stream",
     "text": [
      "10.653061224489797\n",
      "12.008333333333333\n"
     ]
    }
   ],
   "source": [
    "print(data[data['absences']>10]['G3'].mean())\n",
    "print(data[data['absences']<=10]['G3'].mean())"
   ]
  },
  {
   "cell_type": "markdown",
   "metadata": {},
   "source": [
    "Студенты, имеющие больше 10 пропусков, учатся хуже остальных."
   ]
  },
  {
   "cell_type": "code",
   "execution_count": 489,
   "metadata": {
    "collapsed": false
   },
   "outputs": [
    {
     "name": "stdout",
     "output_type": "stream",
     "text": [
      "12.275862068965518\n",
      "8.797101449275363\n"
     ]
    }
   ],
   "source": [
    "print(data[data['higher']=='yes']['G3'].mean())\n",
    "print(data[data['higher']=='no']['G3'].mean())"
   ]
  },
  {
   "cell_type": "markdown",
   "metadata": {},
   "source": [
    "Студенты, желающие получить высшее образование, учатся лучше остальных."
   ]
  },
  {
   "cell_type": "markdown",
   "metadata": {},
   "source": [
    "# 5. Самостоятельный анализ"
   ]
  },
  {
   "cell_type": "markdown",
   "metadata": {},
   "source": [
    "Посмотрим на средние оценки, чтобы определить признаки, имеющие наибольшее влияние на целевой признак"
   ]
  },
  {
   "cell_type": "code",
   "execution_count": 490,
   "metadata": {
    "collapsed": false
   },
   "outputs": [
    {
     "name": "stdout",
     "output_type": "stream",
     "text": [
      "11.205128205128204\n",
      "11.950819672131148\n"
     ]
    }
   ],
   "source": [
    "print(data[data['paid']=='yes']['G3'].mean())\n",
    "print(data[data['paid']=='no']['G3'].mean())"
   ]
  },
  {
   "cell_type": "code",
   "execution_count": 491,
   "metadata": {
    "collapsed": false
   },
   "outputs": [
    {
     "name": "stdout",
     "output_type": "stream",
     "text": [
      "11.279411764705882\n",
      "11.97934595524957\n"
     ]
    }
   ],
   "source": [
    "print(data[data['schoolsup']=='yes']['G3'].mean())\n",
    "print(data[data['schoolsup']=='no']['G3'].mean())"
   ]
  },
  {
   "cell_type": "code",
   "execution_count": 492,
   "metadata": {
    "collapsed": false
   },
   "outputs": [
    {
     "name": "stdout",
     "output_type": "stream",
     "text": [
      "11.523012552301255\n",
      "12.129268292682926\n"
     ]
    }
   ],
   "source": [
    "print(data[data['romantic']=='yes']['G3'].mean())\n",
    "print(data[data['romantic']=='no']['G3'].mean())"
   ]
  },
  {
   "cell_type": "code",
   "execution_count": 493,
   "metadata": {
    "collapsed": false
   },
   "outputs": [
    {
     "name": "stdout",
     "output_type": "stream",
     "text": [
      "12.057788944723619\n",
      "11.665338645418327\n"
     ]
    }
   ],
   "source": [
    "print(data[data['famsup']=='yes']['G3'].mean())\n",
    "print(data[data['famsup']=='no']['G3'].mean())"
   ]
  },
  {
   "cell_type": "code",
   "execution_count": 494,
   "metadata": {
    "collapsed": false
   },
   "outputs": [
    {
     "name": "stdout",
     "output_type": "stream",
     "text": [
      "11.905096660808436\n",
      "11.9125\n"
     ]
    }
   ],
   "source": [
    "print(data[data['Pstatus']=='T']['G3'].mean())\n",
    "print(data[data['Pstatus']=='A']['G3'].mean())"
   ]
  },
  {
   "cell_type": "code",
   "execution_count": 495,
   "metadata": {
    "collapsed": false
   },
   "outputs": [
    {
     "name": "stdout",
     "output_type": "stream",
     "text": [
      "12.104761904761904\n",
      "11.718562874251496\n"
     ]
    }
   ],
   "source": [
    "print(data[data['activities']=='yes']['G3'].mean())\n",
    "print(data[data['activities']=='no']['G3'].mean())"
   ]
  },
  {
   "cell_type": "code",
   "execution_count": 496,
   "metadata": {
    "collapsed": false
   },
   "outputs": [
    {
     "name": "stdout",
     "output_type": "stream",
     "text": [
      "11.787280701754385\n",
      "12.186528497409327\n"
     ]
    }
   ],
   "source": [
    "print(data[data['goout']>2]['G3'].mean())\n",
    "print(data[data['goout']<3]['G3'].mean())"
   ]
  },
  {
   "cell_type": "code",
   "execution_count": 497,
   "metadata": {
    "collapsed": false
   },
   "outputs": [
    {
     "name": "stdout",
     "output_type": "stream",
     "text": [
      "12.003344481605351\n",
      "10.764705882352942\n"
     ]
    }
   ],
   "source": [
    "print(data[data['famrel']>2]['G3'].mean())\n",
    "print(data[data['famrel']<3]['G3'].mean())"
   ]
  },
  {
   "cell_type": "code",
   "execution_count": 498,
   "metadata": {
    "collapsed": false
   },
   "outputs": [
    {
     "name": "stdout",
     "output_type": "stream",
     "text": [
      "10.454545454545455\n",
      "12.101398601398602\n"
     ]
    }
   ],
   "source": [
    "print(data[data['Dalc']>2]['G3'].mean())\n",
    "print(data[data['Dalc']<3]['G3'].mean())"
   ]
  },
  {
   "cell_type": "code",
   "execution_count": 499,
   "metadata": {
    "collapsed": false
   },
   "outputs": [
    {
     "name": "stdout",
     "output_type": "stream",
     "text": [
      "11.25\n",
      "12.32241813602015\n"
     ]
    }
   ],
   "source": [
    "print(data[data['Walc']>2]['G3'].mean())\n",
    "print(data[data['Walc']<3]['G3'].mean())"
   ]
  },
  {
   "cell_type": "code",
   "execution_count": 500,
   "metadata": {
    "collapsed": false
   },
   "outputs": [
    {
     "name": "stdout",
     "output_type": "stream",
     "text": [
      "11.752598752598752\n",
      "12.345238095238095\n"
     ]
    }
   ],
   "source": [
    "print(data[data['health']>2]['G3'].mean())\n",
    "print(data[data['health']<3]['G3'].mean())"
   ]
  },
  {
   "cell_type": "code",
   "execution_count": 501,
   "metadata": {
    "collapsed": false
   },
   "outputs": [
    {
     "name": "stdout",
     "output_type": "stream",
     "text": [
      "12.64864864864865\n",
      "11.412820512820513\n"
     ]
    }
   ],
   "source": [
    "print(data[data['Fedu']>2]['G3'].mean())\n",
    "print(data[data['Fedu']<3]['G3'].mean())"
   ]
  },
  {
   "cell_type": "code",
   "execution_count": 502,
   "metadata": {
    "collapsed": false
   },
   "outputs": [
    {
     "name": "stdout",
     "output_type": "stream",
     "text": [
      "12.560509554140127\n",
      "11.292537313432836\n"
     ]
    }
   ],
   "source": [
    "print(data[data['Medu']>2]['G3'].mean())\n",
    "print(data[data['Medu']<3]['G3'].mean())"
   ]
  },
  {
   "cell_type": "markdown",
   "metadata": {},
   "source": [
    "Наиболее сильно влияющими факторами оказались образование родителей, отношения в семье и употребление алкоголя в будние дни.\n",
    "Рассмотрим их подробнее"
   ]
  },
  {
   "cell_type": "code",
   "execution_count": 503,
   "metadata": {
    "collapsed": false
   },
   "outputs": [
    {
     "data": {
      "text/plain": [
       "<matplotlib.legend.Legend at 0xdf1554aa90>"
      ]
     },
     "execution_count": 503,
     "metadata": {},
     "output_type": "execute_result"
    },
    {
     "data": {
      "image/png": "[encoded data removed]",
      "text/plain": [
       "<matplotlib.figure.Figure at 0xdf1554ac50>"
      ]
     },
     "metadata": {},
     "output_type": "display_data"
    }
   ],
   "source": [
    "data[data['Dalc']<3]['G3'].plot(kind = 'hist',bins = 15, color = 'green', label = '<3')\n",
    "data[data['Dalc']>2]['G3'].plot(kind = 'hist',bins = 15, label = '>2')\n",
    "plt.legend()"
   ]
  },
  {
   "cell_type": "code",
   "execution_count": 504,
   "metadata": {
    "collapsed": false
   },
   "outputs": [
    {
     "data": {
      "text/plain": [
       "<matplotlib.legend.Legend at 0xdf15589198>"
      ]
     },
     "execution_count": 504,
     "metadata": {},
     "output_type": "execute_result"
    },
    {
     "data": {
      "image/png": "[encoded data removed]",
      "text/plain": [
       "<matplotlib.figure.Figure at 0xdf155e3400>"
      ]
     },
     "metadata": {},
     "output_type": "display_data"
    }
   ],
   "source": [
    "data[data['famrel']>2]['G3'].plot(kind = 'hist', bins = 20, color = 'orange', label = '>2')\n",
    "data[data['famrel']<3]['G3'].plot(kind = 'hist', bins = 20, color = 'green', label = '<3')\n",
    "plt.legend()"
   ]
  },
  {
   "cell_type": "code",
   "execution_count": 505,
   "metadata": {
    "collapsed": false
   },
   "outputs": [
    {
     "data": {
      "text/plain": [
       "<matplotlib.legend.Legend at 0xdf10712710>"
      ]
     },
     "execution_count": 505,
     "metadata": {},
     "output_type": "execute_result"
    },
    {
     "data": {
      "image/png": "[encoded data removed]",
      "text/plain": [
       "<matplotlib.figure.Figure at 0xdf15630278>"
      ]
     },
     "metadata": {},
     "output_type": "display_data"
    }
   ],
   "source": [
    "data1 = data[data['Fedu']>2]\n",
    "data2 = data1[data1['Medu']>2]\n",
    "data2['G3'].plot(kind = 'hist', bins = 20, color = 'yellow', label = \"parents' edu >2\")\n",
    "data3 = data[data['Fedu']<3]\n",
    "data4 = data1[data1['Medu']<3]\n",
    "data4['G3'].plot(kind = 'hist', bins = 10, color = 'green', label = \"parents' edu <3\")\n",
    "plt.legend(loc = 'best')"
   ]
  }
 ],
 "metadata": {
  "kernelspec": {
   "display_name": "Python 3",
   "language": "python",
   "name": "python3"
  },
  "language_info": {
   "codemirror_mode": {
    "name": "ipython",
    "version": 3
   },
   "file_extension": ".py",
   "mimetype": "text/x-python",
   "name": "python",
   "nbconvert_exporter": "python",
   "pygments_lexer": "ipython3",
   "version": "3.5.1"
  }
 },
 "nbformat": 4,
 "nbformat_minor": 0
}
